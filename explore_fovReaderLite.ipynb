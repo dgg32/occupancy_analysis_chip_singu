{
 "cells": [
  {
   "cell_type": "code",
   "execution_count": 1,
   "source": [
    "import numpy as np\n",
    "import pandas as pd"
   ],
   "outputs": [],
   "metadata": {}
  },
  {
   "cell_type": "code",
   "execution_count": 8,
   "source": [
    "\"\"\"\n",
    "To understand fovReaderLite.py createAndViewHeader()\n",
    "\"\"\"\n",
    "\n",
    "'''\n",
    "\n",
    "        FileHeader:\n",
    "            FileTag:\n",
    "                char SlideId[32];\t\t\t\t//Slide ID\n",
    "                unsigned char Type;\t\t\t\t//Binary file type\n",
    "                unsigned char Lane;\t\t\t\t//Lane index start at 1\n",
    "                unsigned char Row;\t\t\t\t//Row ID\n",
    "                unsigned char Col;\t\t\t\t//Col ID\n",
    "                uint32_t SpotNum;\t\t\t\t//Spot number per fov\n",
    "                unsigned char ChannelNum;\t\t//Channel number, for cal file, this is 1\n",
    "                unsigned char ElementSize;\t\t//For F16 is 2\n",
    "                unsigned short CycleNum;\t\t//Cycle numnber\n",
    "                unsigned char Recycle;\t\t\t//1: open recycle, cycle number will be limitted\n",
    "                unsigned char Reserves[19];\n",
    "                std::string ToString() const\n",
    "                {\n",
    "                    std::string str;\n",
    "                    CUtils::StringFormat(str, \"%s.L%.3d.C%.3dR%.3d\", SlideId, Lane, Col, Row);\n",
    "                    return str;\n",
    "                }\n",
    "\n",
    "\n",
    "            ChunkEntry: Entries[EntryCount]:\n",
    "                char Flag;\t\t\t\t\t//Indicate current chunk data status, 1: has data, 0: unknown;\n",
    "                float NorLow;\t\t\t\t//for NotInt, here stores the normalization coefficient\n",
    "                float NorUp;\n",
    "                unsigned char Reserves[7];\n",
    "                \n",
    "    '''\n",
    "\n",
    "\n",
    "ft = {'SlideId': '', 'Type': 0, 'Lane': 0, 'Row': 0, 'Col': 0, 'SpotNum': 0, 'ChannelNum': 0, 'ElementSize': 0, 'CycleNum': 0, 'Recycle': 0, 'fmtStr': '{SlideId}.L{Lane:03d}.C{Col:03d}.R{Row:03d}'}\n",
    "\n",
    "path = \"/home/sih13/mnt/Javier/V350003488_lite1.1/L01/Coord/C004R036.Coord\"\n",
    "\n",
    "size = 65536\n",
    "\n",
    "tagNames = ['SlideId', 'Type', 'Lane', 'Row', 'Col', 'SpotNum', 'ChannelNum', 'ElementSize', 'CycleNum', 'Recycle']\n",
    "\n",
    "fileTagDtype = {'SlideId': {'count': 512, 'dtype':np.uint8}, 'Type': {'count': 1, 'dtype': np.uint8}, \n",
    "'Lane': {'count': 1, 'dtype': np.uint8}, 'Row': {'count': 1, 'dtype': np.uint8}, \n",
    "'Col': {'count': 1, 'dtype': np.uint8}, 'SpotNum': {'count': 1, 'dtype': np.uint32}, \n",
    "'ChannelNum': {'count': 1, 'dtype': np.uint8}, \n",
    "'ElementSize': {'count': 1, 'dtype': np.uint8}, \n",
    "'CycleNum': {'count': 1, 'dtype': np.uint16}, 'Recycle': {'count': 1, 'dtype': bool}}\n",
    " \n",
    "\n",
    "with open(path, 'rb', size) as fh:\n",
    "    for tag in tagNames:\n",
    "        data = np.fromfile(fh, **fileTagDtype[tag])\n",
    "    \n",
    "        print (tag, data, len(data))"
   ],
   "outputs": [
    {
     "output_type": "stream",
     "name": "stdout",
     "text": [
      "SlideId [ 86  51  53  48  48  48  51  52  56  56   0 113 119   2   0   0  48   0\n",
      "   0   0   0   0   0   0 192  12  64  88 119   2   0   0   0   0  64  88\n",
      " 119   2   0   0   0   0   0   0   0   0   0   0   0   0   0   0   0   0\n",
      "   0   0  48   0   0   0   0   0   0   0  40   0   0   0   0   0   0   0\n",
      "   8   0   0   0   0   0   0   0   0   0  76  88 119   2   0   0 233 142\n",
      " 159 166 194   0   0   0   3   0   0   0   0   0   0   0 199 179 139  97\n",
      " 252 127   0   0   0   0  64  88 119   2   0   0   0   0   0   0   0   0\n",
      "   0   0  40   0   0   0   0   0   0   0   0   0   0   0 194   0   0   0\n",
      "   3   0   0   0   0   0   0   0 199 179 139  97 252 127   0   0   0   0\n",
      "  64  88   2   0   0   0   0   0   0   0   0   0   0   0  40   0   0   0\n",
      "   0   0   0   0   0   0   0   0 252 127   0   0 192  11  44 113 119   2\n",
      "   0   0   0   0   0   0   0   0   0   0 192  11  44 113   2   0   0   0\n",
      " 192  11  44 113 119   2   0   0 192  11  44 113 119   2   0   0  51 205\n",
      " 104 169 247 127   0   0 128 143 159 166 194   0   0   0   0   0   0   0\n",
      "   0   0   0   0 240   8  44 113 119   2   0   0 192  11  44 113 119   2\n",
      "   0   0 224 123  90  88 119   2   0   0 192  11  44 113 119   2   0   0\n",
      " 254 255 255 255 255 255 255 255 176 144 159 166 194   0   0   0   0  68\n",
      " 228  89 119   2   0   0   1   0   0   0   0   0   0   0   0   0   0   0\n",
      "   0   0   0   0 200 217 159 166 194   0   0   0  48 121  90  88 119   2\n",
      "   0   0 216 217 159 166 194   0   0   0 224   9  44 113 119   2   0   0\n",
      "   0   0   0   0   0   0   0   0   0   0   0   0   0   0   0   0 230 253\n",
      " 249  94 252 127   0   0   0   0   0   0   0   0   0   0  40   0   0   0\n",
      "   0   0   0   0   0  18  89  88 119   2   0   0   0   0   0   0   0   0\n",
      "   0   0 224   9  44 113 119   2   0   0 109  53 114 169 247 127   0   0\n",
      "  40   0   0   0   0   0   0   0  40   0   0   0   0   0   0   0 128  35\n",
      "  46 113 119   2   0   0   0   0  46 113 119   2   0   0 112 216 159 166\n",
      " 194   0   0   0 146 194 102 169 247 127   0   0  40   0   0   0   0   0\n",
      "   0   0   0  51  53  48  48  48  51  52 144  11  44 113 119   2   0   0\n",
      "  46 138 104 169 247 127   0   0] 512\n",
      "Type [6] 1\n",
      "Lane [1] 1\n",
      "Row [36] 1\n",
      "Col [4] 1\n",
      "SpotNum [1408077] 1\n",
      "ChannelNum [4] 1\n",
      "ElementSize [8] 1\n",
      "CycleNum [10] 1\n",
      "Recycle [False] 1\n"
     ]
    }
   ],
   "metadata": {}
  },
  {
   "cell_type": "code",
   "execution_count": 17,
   "source": [
    "\n",
    "with open(path, 'rb', size) as fh:\n",
    "    for tag in tagNames:\n",
    "        data = np.fromfile(fh, **fileTagDtype[tag])\n",
    "        if tag == \"SlideId\":\n",
    "            end = np.where(data == 0)[0][0]\n",
    "            print (end)\n",
    "            print (data[:end])\n",
    "            print (data[:end].view('S1'))\n",
    "            ft[\"SlideId\"] = \"\".join(data[:end].view('S1').astype('U1'))"
   ],
   "outputs": [
    {
     "output_type": "stream",
     "name": "stdout",
     "text": [
      "10\n",
      "[86 51 53 48 48 48 51 52 56 56]\n",
      "[b'V' b'3' b'5' b'0' b'0' b'0' b'3' b'4' b'8' b'8']\n"
     ]
    }
   ],
   "metadata": {}
  },
  {
   "cell_type": "code",
   "execution_count": 15,
   "source": [
    "ft"
   ],
   "outputs": [
    {
     "output_type": "execute_result",
     "data": {
      "text/plain": [
       "{'SlideId': 'V350003488',\n",
       " 'Type': 0,\n",
       " 'Lane': 0,\n",
       " 'Row': 0,\n",
       " 'Col': 0,\n",
       " 'SpotNum': 0,\n",
       " 'ChannelNum': 0,\n",
       " 'ElementSize': 0,\n",
       " 'CycleNum': 0,\n",
       " 'Recycle': 0,\n",
       " 'fmtStr': '{SlideId}.L{Lane:03d}.C{Col:03d}.R{Row:03d}'}"
      ]
     },
     "metadata": {},
     "execution_count": 15
    }
   ],
   "metadata": {}
  },
  {
   "cell_type": "code",
   "execution_count": 18,
   "source": [
    "with open(path, 'rb', size) as fh:\n",
    "    for tag in tagNames:\n",
    "        data = np.fromfile(fh, **fileTagDtype[tag])\n",
    "        if tag == \"SlideId\":\n",
    "            end = np.where(data == 0)[0][0]\n",
    "            print (end)\n",
    "            print (data[:end])\n",
    "            print (data[:end].view('S1'))\n",
    "            ft[\"SlideId\"] = \"\".join(data[:end].view('S1').astype('U1'))\n",
    "        else:\n",
    "            ft[tag] = data[0]"
   ],
   "outputs": [
    {
     "output_type": "stream",
     "name": "stdout",
     "text": [
      "10\n",
      "[86 51 53 48 48 48 51 52 56 56]\n",
      "[b'V' b'3' b'5' b'0' b'0' b'0' b'3' b'4' b'8' b'8']\n"
     ]
    }
   ],
   "metadata": {}
  },
  {
   "cell_type": "code",
   "execution_count": 19,
   "source": [
    "ft"
   ],
   "outputs": [
    {
     "output_type": "execute_result",
     "data": {
      "text/plain": [
       "{'SlideId': 'V350003488',\n",
       " 'Type': 6,\n",
       " 'Lane': 1,\n",
       " 'Row': 36,\n",
       " 'Col': 4,\n",
       " 'SpotNum': 1408077,\n",
       " 'ChannelNum': 4,\n",
       " 'ElementSize': 8,\n",
       " 'CycleNum': 10,\n",
       " 'Recycle': False,\n",
       " 'fmtStr': '{SlideId}.L{Lane:03d}.C{Col:03d}.R{Row:03d}'}"
      ]
     },
     "metadata": {},
     "execution_count": 19
    }
   ],
   "metadata": {}
  },
  {
   "cell_type": "code",
   "execution_count": 22,
   "source": [
    "#calculateChunkMetrics\n",
    "\n",
    "chunkEntries = {}\n",
    "\n",
    "_AllocGranulatiry = 64 * 1024 #All chunk sizes are 64 kB for current version\n",
    "\n",
    "rawChunkSize = ft[\"SpotNum\"] * ft[\"ElementSize\"]\n",
    "appendSize =  (_AllocGranulatiry - (rawChunkSize % _AllocGranulatiry))\n",
    "chunkEntries[\"chunk_size\"] = rawChunkSize + appendSize\n",
    "chunkEntries[\"num\"] = ft[\"CycleNum\"].astype(np.int16) * ft[\"ChannelNum\"].astype(np.int16)"
   ],
   "outputs": [],
   "metadata": {}
  },
  {
   "cell_type": "code",
   "execution_count": 23,
   "source": [
    "chunkEntries"
   ],
   "outputs": [
    {
     "output_type": "execute_result",
     "data": {
      "text/plain": [
       "{'chunk_size': 11272192, 'num': 40}"
      ]
     },
     "metadata": {},
     "execution_count": 23
    }
   ],
   "metadata": {}
  },
  {
   "cell_type": "code",
   "execution_count": 26,
   "source": [
    "with open(path, 'rb', size) as fh:\n",
    "    fh.seek(576)\n",
    "\n",
    "    for chunk in range(chunkEntries[\"num\"]):\n",
    "        flag = np.fromfile(fh, count=1, dtype=bool)[0]\n",
    "        nor = np.fromfile(fh, count=2, dtype=np.float32)\n",
    "        #There is 7 leftover bytes delimiting each Chunk Entry\n",
    "        _ = np.fromfile(fh, count=7, dtype=np.uint8)\n",
    "\n",
    "        print (chunk, flag, nor, _)"
   ],
   "outputs": [
    {
     "output_type": "stream",
     "name": "stdout",
     "text": [
      "0 True [0. 0.] [0 0 0 0 0 0 0]\n",
      "1 True [0. 0.] [0 0 0 0 0 0 0]\n",
      "2 True [0. 0.] [0 0 0 0 0 0 0]\n",
      "3 True [0. 0.] [0 0 0 0 0 0 0]\n",
      "4 True [0. 0.] [0 0 0 0 0 0 0]\n",
      "5 True [0. 0.] [0 0 0 0 0 0 0]\n",
      "6 True [0. 0.] [0 0 0 0 0 0 0]\n",
      "7 True [0. 0.] [0 0 0 0 0 0 0]\n",
      "8 True [0. 0.] [0 0 0 0 0 0 0]\n",
      "9 True [0. 0.] [0 0 0 0 0 0 0]\n",
      "10 True [0. 0.] [0 0 0 0 0 0 0]\n",
      "11 True [0. 0.] [0 0 0 0 0 0 0]\n",
      "12 True [0. 0.] [0 0 0 0 0 0 0]\n",
      "13 True [0. 0.] [0 0 0 0 0 0 0]\n",
      "14 True [0. 0.] [0 0 0 0 0 0 0]\n",
      "15 True [0. 0.] [0 0 0 0 0 0 0]\n",
      "16 True [0. 0.] [0 0 0 0 0 0 0]\n",
      "17 True [0. 0.] [0 0 0 0 0 0 0]\n",
      "18 True [0. 0.] [0 0 0 0 0 0 0]\n",
      "19 True [0. 0.] [0 0 0 0 0 0 0]\n",
      "20 True [0. 0.] [0 0 0 0 0 0 0]\n",
      "21 True [0. 0.] [0 0 0 0 0 0 0]\n",
      "22 True [0. 0.] [0 0 0 0 0 0 0]\n",
      "23 True [0. 0.] [0 0 0 0 0 0 0]\n",
      "24 True [0. 0.] [0 0 0 0 0 0 0]\n",
      "25 True [0. 0.] [0 0 0 0 0 0 0]\n",
      "26 True [0. 0.] [0 0 0 0 0 0 0]\n",
      "27 True [0. 0.] [0 0 0 0 0 0 0]\n",
      "28 True [0. 0.] [0 0 0 0 0 0 0]\n",
      "29 True [0. 0.] [0 0 0 0 0 0 0]\n",
      "30 True [0. 0.] [0 0 0 0 0 0 0]\n",
      "31 True [0. 0.] [0 0 0 0 0 0 0]\n",
      "32 True [0. 0.] [0 0 0 0 0 0 0]\n",
      "33 True [0. 0.] [0 0 0 0 0 0 0]\n",
      "34 True [0. 0.] [0 0 0 0 0 0 0]\n",
      "35 True [0. 0.] [0 0 0 0 0 0 0]\n",
      "36 True [0. 0.] [0 0 0 0 0 0 0]\n",
      "37 True [0. 0.] [0 0 0 0 0 0 0]\n",
      "38 False [0. 0.] [0 0 0 0 0 0 0]\n",
      "39 False [0. 0.] [0 0 0 0 0 0 0]\n"
     ]
    }
   ],
   "metadata": {}
  },
  {
   "cell_type": "code",
   "execution_count": null,
   "source": [],
   "outputs": [],
   "metadata": {}
  }
 ],
 "metadata": {
  "orig_nbformat": 4,
  "language_info": {
   "name": "python",
   "version": "3.8.8",
   "mimetype": "text/x-python",
   "codemirror_mode": {
    "name": "ipython",
    "version": 3
   },
   "pygments_lexer": "ipython3",
   "nbconvert_exporter": "python",
   "file_extension": ".py"
  },
  "kernelspec": {
   "name": "python3",
   "display_name": "Python 3.8.8 64-bit ('base': conda)"
  },
  "interpreter": {
   "hash": "820bded3f616df4412e170acad9336b748b69e0521c4734711936a207ce67476"
  }
 },
 "nbformat": 4,
 "nbformat_minor": 2
}